{
 "cells": [
  {
   "cell_type": "markdown",
   "metadata": {},
   "source": [
    "### title"
   ]
  },
  {
   "cell_type": "markdown",
   "metadata": {},
   "source": [
    "This project integrates p5.js with ESP32 and connects them via OSC, creating an interaction between the virtual and the physical. The ESP32 is embedded within a 3D-printed silver-white sphere, capturing motion data to synchronise the movement of a dynamic virtual sphere in p5.js."
   ]
  }
 ],
 "metadata": {
  "language_info": {
   "name": "python"
  }
 },
 "nbformat": 4,
 "nbformat_minor": 2
}
